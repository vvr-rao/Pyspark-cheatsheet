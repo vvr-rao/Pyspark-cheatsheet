{
 "cells": [
  {
   "cell_type": "code",
   "execution_count": null,
   "id": "90b1fbd4",
   "metadata": {},
   "outputs": [],
   "source": [
    "import sys\n",
    "from datetime import datetime\n",
    "\n",
    "from pyspark.sql import SparkSession\n",
    "from pyspark.sql.functions import *\n"
   ]
  },
  {
   "cell_type": "code",
   "execution_count": null,
   "id": "81213014",
   "metadata": {},
   "outputs": [],
   "source": [
    "spark = SparkSession\\\n",
    "    .builder\\\n",
    "    .appName(\"SparkETL\")\\\n",
    "    .getOrCreate()"
   ]
  },
  {
   "cell_type": "markdown",
   "id": "c2a279c2",
   "metadata": {},
   "source": [
    "##Read and split data ##"
   ]
  },
  {
   "cell_type": "code",
   "execution_count": null,
   "id": "91366770",
   "metadata": {},
   "outputs": [],
   "source": [
    "from pyspark.sql.types import *"
   ]
  },
  {
   "cell_type": "code",
   "execution_count": null,
   "id": "356b3dde",
   "metadata": {},
   "outputs": [],
   "source": [
    "peopleSchema = StructType([\n",
    "    #define rowid\n",
    "    StructField('row_id',IntegerType(), True),\n",
    "    #define id\n",
    "    StructField('id',IntegerType(), True),\n",
    "    #define name\n",
    "    StructField('name',StringType(), True),\n",
    "    #define sex\n",
    "    StructField('sex',StringType(), True),\n",
    "    #define DOB\n",
    "    StructField('dob',DateType(), True),\n",
    "])"
   ]
  },
  {
   "cell_type": "code",
   "execution_count": null,
   "id": "1cccc71f",
   "metadata": {},
   "outputs": [],
   "source": [
    "df_people = spark.read.csv(\"s3://BUCKET_NAME/input/people.csv\", header=True, schema=peopleSchema)"
   ]
  },
  {
   "cell_type": "code",
   "execution_count": null,
   "id": "16712118",
   "metadata": {},
   "outputs": [],
   "source": [
    "df_people.show(5)"
   ]
  },
  {
   "cell_type": "code",
   "execution_count": null,
   "id": "e3254b2d",
   "metadata": {},
   "outputs": [],
   "source": [
    "df_people.printSchema()"
   ]
  },
  {
   "cell_type": "code",
   "execution_count": null,
   "id": "18dbb614",
   "metadata": {},
   "outputs": [],
   "source": [
    "df_parq = df_people.write.mode(\"overwrite\").parquet(\"s3://BUCKET_NAME/output/people.parquet\")"
   ]
  },
  {
   "cell_type": "code",
   "execution_count": null,
   "id": "0313760a",
   "metadata": {},
   "outputs": [],
   "source": [
    "#remove duplicates\n",
    "df_people_sub = df_people.select('name','sex','dob')\n",
    "df_people_nodup = df_people_sub.dropDuplicates()"
   ]
  },
  {
   "cell_type": "code",
   "execution_count": null,
   "id": "fe797528",
   "metadata": {},
   "outputs": [],
   "source": [
    "print(\"There were {} rows before removing duplicates, and {} rows after removing duplicates\".format(df_people_sub.count(), df_people_nodup.count()))"
   ]
  },
  {
   "cell_type": "code",
   "execution_count": null,
   "id": "5f4001fd",
   "metadata": {},
   "outputs": [],
   "source": [
    "#filter\n",
    "df_people_female = df_people_nodup.filter(df_people_nodup.sex == \"female\")\n",
    "df_people_male =df_people_nodup.filter(df_people_nodup.sex == \"male\")"
   ]
  },
  {
   "cell_type": "code",
   "execution_count": null,
   "id": "c78d2db4",
   "metadata": {},
   "outputs": [],
   "source": [
    "print(\"There are {} rows in the people_df_female DataFrame and {} rows in the people_df_male DataFrame\".format(df_people_female.count(), df_people_male.count()))"
   ]
  },
  {
   "cell_type": "code",
   "execution_count": null,
   "id": "5b3ad972",
   "metadata": {},
   "outputs": [],
   "source": []
  }
 ],
 "metadata": {
  "kernelspec": {
   "display_name": "PySpark",
   "language": "",
   "name": "pysparkkernel"
  },
  "language_info": {
   "codemirror_mode": {
    "name": "python",
    "version": 3
   },
   "mimetype": "text/x-python",
   "name": "pyspark",
   "pygments_lexer": "python3"
  }
 },
 "nbformat": 4,
 "nbformat_minor": 5
}
